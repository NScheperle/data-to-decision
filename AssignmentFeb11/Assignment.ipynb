{
 "cells": [
  {
   "cell_type": "markdown",
   "metadata": {},
   "source": [
    "# Data to Decision\n",
    "\n",
    "## Nathan Scheperle\n",
    "## Monday, February 11"
   ]
  },
  {
   "cell_type": "markdown",
   "metadata": {},
   "source": [
    "Note: students may work in groups on the problem but are responsible for submitting their own answers. Type answers directly in this word document, rename the file with your name, and upload to Sakai Dropbox before noon on Monday. \n",
    "\n",
    "## Applying the Threshold Model and Forecasting Future Error Rates\n",
    "\n",
    "Computer chips that exceed certain size tolerances on the assembly line tend to be defective. You are given size measures for each chip, wirth binary outcomes (defective/not defective). You are given 400 typical cases (drawn at random from a stable production process). \n",
    "\n",
    "The cost per FP classification is estimated at $\\$50-100$ and the cost per FN classification is $\\$150-300$.  "
   ]
  },
  {
   "cell_type": "code",
   "execution_count": 1,
   "metadata": {},
   "outputs": [],
   "source": [
    "class Threshold():\n",
    "    \"\"\" Implementation of the Threshold Model in Python\"\"\"\n",
    "    \n",
    "    def __init__(self, fn_cost, fp_cost):\n",
    "        self.fn_cost = fn_cost\n",
    "        self.fp_cost = fp_cost\n",
    "        pass\n",
    "    \n",
    "    def fit(self, x, y):\n",
    "        df = pd.concat([x, y], axis=1)\n",
    "        df.columns = ['x', 'y']\n",
    "        pos = len(df[df['y']])\n",
    "        neg = len(df) - pos\n",
    "        df = df.sort_values(by='x', ascending=False)\n",
    "        if df.iloc[0, df.columns.get_loc('y')]:\n",
    "            df['FP'] = 0\n",
    "            df['FN'] = pos - 1\n",
    "            df['TP'] = 1\n",
    "            df['TN'] = neg\n",
    "        else:\n",
    "            df['FP'] = 1\n",
    "            df['FN'] = pos\n",
    "            df['TP'] = 0\n",
    "            df['TN'] = neg  - 1\n",
    "        for i in range(1,len(df)):\n",
    "            if df.iloc[i,df.columns.get_loc('y')]:\n",
    "                df.iloc[i, df.columns.get_loc('FN')] = df.iloc[i-1, df.columns.get_loc('FN')] - 1\n",
    "                df.iloc[i, df.columns.get_loc('TP')] = df.iloc[i-1, df.columns.get_loc('TP')] + 1\n",
    "\n",
    "                df.iloc[i, df.columns.get_loc('TN')] = df.iloc[i-1, df.columns.get_loc('TN')]\n",
    "                df.iloc[i, df.columns.get_loc('FP')] = df.iloc[i-1, df.columns.get_loc('FP')]\n",
    "            else:\n",
    "                df.iloc[i, df.columns.get_loc('TN')] = df.iloc[i-1, df.columns.get_loc('TN')] - 1\n",
    "                df.iloc[i, df.columns.get_loc('FP')] = df.iloc[i-1, df.columns.get_loc('FP')] + 1\n",
    "\n",
    "                df.iloc[i, df.columns.get_loc('FN')] = df.iloc[i-1, df.columns.get_loc('FN')]\n",
    "                df.iloc[i, df.columns.get_loc('TP')] = df.iloc[i-1, df.columns.get_loc('TP')]\n",
    "\n",
    "        df['Cost'] = self.fn_cost*df['FN'] + self.fp_cost*df['FP']\n",
    "        df['Error'] = (df['FN'] + df['FP'])/len(df)\n",
    "        \n",
    "        threshold_row = df.loc[df['Cost'].idxmin()]\n",
    "        self.threshold = threshold_row['x']\n",
    "        self.err_rate = threshold_row['Error']\n",
    "        self.cost = threshold_row['Cost']\n",
    "        self.n = len(df)\n",
    "        pass\n",
    "    \n",
    "    def avg_cost(self):\n",
    "        return self.cost/self.n\n",
    "    \n",
    "    def predict(self, x):\n",
    "        x_sort = x.sort_values(ascending=False)\n",
    "        y_hat = x >= self.threshold\n",
    "        return y_hat    \n",
    "    "
   ]
  },
  {
   "cell_type": "markdown",
   "metadata": {},
   "source": [
    "Partition your $400$ cases into a *training set* and *test set*, based on ensuring that with $99\\%$ confidence the error rate on future data will not exceed the error rate on test data by $.10$.  Partition the data by assigning individual cases at random to the two sets in your desired proportions.\n",
    "\n",
    "1. How large is your test set? Why? \n",
    "\n",
    "Using Hoeffding's Inequality, the required number of observations in the test dataset to ensure an error rate below $.10$ at the $99\\%$ confidence level is:\n",
    "$$\n",
    "n \\geq \\frac{log(2/\\alpha)}{2t^2} = \\frac{log(2/.01)}{2 \\cdot .1^2} = \\frac{log(200)}{.02} \\approx 265\n",
    "$$"
   ]
  },
  {
   "cell_type": "code",
   "execution_count": 2,
   "metadata": {},
   "outputs": [],
   "source": [
    "import numpy as np\n",
    "import pandas as pd\n",
    "import matplotlib.pyplot as plt\n",
    "\n",
    "# read in dataset\n",
    "conv = lambda input: input=='POS'\n",
    "df = pd.read_excel(\"./data/Data for Feb 11 Problem.xlsx\", header=None, \n",
    "                   names=['x','y'])\n",
    "df['y'] = conv(df['y'])\n",
    "\n",
    "# n derived above\n",
    "n = 265\n",
    "\n",
    "train_idx = np.random.choice(range(len(df)), size=n, replace=False)\n",
    "\n",
    "train_df = df.iloc[train_idx]\n",
    "test_df = df.drop(train_idx)"
   ]
  },
  {
   "cell_type": "markdown",
   "metadata": {},
   "source": [
    "2. Evaluate the threshold model on your training data only, and identify six parameters (thresholds) that minimize the average per-chip cost of misclassification at each of six combinations of costs. \n",
    "\n",
    "(A) Record these parameters. Also give (B) the average cost per event and (C) the error rate at each threshold on training set."
   ]
  },
  {
   "cell_type": "code",
   "execution_count": 14,
   "metadata": {},
   "outputs": [
    {
     "name": "stdout",
     "output_type": "stream",
     "text": [
      "At $150 per FN and $50 per FP, \n",
      "Threshold = 10210.77657077832\n",
      "Error rate = 0.04150943396226415\n",
      "Average cost per event = $5.094\n",
      "\n",
      "At $225 per FN and $50 per FP, \n",
      "Threshold = 10183.438877965953\n",
      "Error rate = 0.052830188679245285\n",
      "Average cost per event = $7.264\n",
      "\n",
      "At $350 per FN and $50 per FP, \n",
      "Threshold = 10183.438877965953\n",
      "Error rate = 0.052830188679245285\n",
      "Average cost per event = $10.57\n",
      "\n",
      "At $150 per FN and $100 per FP, \n",
      "Threshold = 10241.889257347055\n",
      "Error rate = 0.03773584905660377\n",
      "Average cost per event = $5.472\n",
      "\n",
      "At $225 per FN and $100 per FP, \n",
      "Threshold = 10210.77657077832\n",
      "Error rate = 0.04150943396226415\n",
      "Average cost per event = $7.925\n",
      "\n",
      "At $350 per FN and $100 per FP, \n",
      "Threshold = 10210.77657077832\n",
      "Error rate = 0.04150943396226415\n",
      "Average cost per event = $11.7\n",
      "\n"
     ]
    },
    {
     "data": {
      "text/plain": [
       "'\\nm11_t, m11_err, m11_cost = do_threshold(train_df, 150, 50)\\nm12_t, m12_err, m12_cost = do_threshold(train_df, 225, 50)\\nm13_t, m13_err, m13_cost = do_threshold(train_df, 350, 50)\\n\\nm21_t, m21_err, m21_cost = do_threshold(train_df, 150, 100)\\nm22_t, m22_err, m22_cost = do_threshold(train_df, 225, 100)\\nm23_t, m23_err, m23_cost = do_threshold(train_df, 350, 100)\\n'"
      ]
     },
     "execution_count": 14,
     "metadata": {},
     "output_type": "execute_result"
    }
   ],
   "source": [
    "def do_threshold(dataset, fn_cost, fp_cost):\n",
    "    thresh_model = Threshold(fn_cost, fp_cost)\n",
    "    thresh_model.fit(dataset['x'], dataset['y'])\n",
    "    print(\"At ${} per FN and ${} per FP, \".format(fn_cost, fp_cost))\n",
    "    print(\"Threshold = {}\".format(thresh_model.threshold))\n",
    "    print(\"Error rate = {}\".format(thresh_model.err_rate))\n",
    "    print(\"Average cost per event = ${0:.4}\".format(thresh_model.avg_cost()))\n",
    "    print()\n",
    "    return fn_cost, fp_cost, thresh_model.threshold, thresh_model.avg_cost(), thresh_model.err_rate \n",
    "\n",
    "m_150_50 = do_threshold(train_df, 150, 50)\n",
    "m_225_50 = do_threshold(train_df, 225, 50)\n",
    "m_350_50 = do_threshold(train_df, 350, 50)\n",
    "\n",
    "m_150_100 = do_threshold(train_df, 150, 100)\n",
    "m_225_100 = do_threshold(train_df, 225, 100)\n",
    "m_350_100 = do_threshold(train_df, 350, 100)\n",
    "\"\"\"\n",
    "m11_t, m11_err, m11_cost = do_threshold(train_df, 150, 50)\n",
    "m12_t, m12_err, m12_cost = do_threshold(train_df, 225, 50)\n",
    "m13_t, m13_err, m13_cost = do_threshold(train_df, 350, 50)\n",
    "\n",
    "m21_t, m21_err, m21_cost = do_threshold(train_df, 150, 100)\n",
    "m22_t, m22_err, m22_cost = do_threshold(train_df, 225, 100)\n",
    "m23_t, m23_err, m23_cost = do_threshold(train_df, 350, 100)\n",
    "\"\"\""
   ]
  },
  {
   "cell_type": "code",
   "execution_count": 15,
   "metadata": {},
   "outputs": [
    {
     "data": {
      "text/html": [
       "<table>\n",
       "<thead>\n",
       "<tr><th style=\"text-align: right;\">  Cost Per FN</th><th style=\"text-align: right;\">  Cost Per FP</th><th style=\"text-align: right;\">  Threshold</th><th style=\"text-align: right;\">  Average Cost</th><th style=\"text-align: right;\">  Error Rate</th></tr>\n",
       "</thead>\n",
       "<tbody>\n",
       "<tr><td style=\"text-align: right;\">          150</td><td style=\"text-align: right;\">           50</td><td style=\"text-align: right;\">    10210.8</td><td style=\"text-align: right;\">       5.09434</td><td style=\"text-align: right;\">   0.0415094</td></tr>\n",
       "<tr><td style=\"text-align: right;\">          225</td><td style=\"text-align: right;\">           50</td><td style=\"text-align: right;\">    10183.4</td><td style=\"text-align: right;\">       7.26415</td><td style=\"text-align: right;\">   0.0528302</td></tr>\n",
       "<tr><td style=\"text-align: right;\">          350</td><td style=\"text-align: right;\">           50</td><td style=\"text-align: right;\">    10183.4</td><td style=\"text-align: right;\">      10.566  </td><td style=\"text-align: right;\">   0.0528302</td></tr>\n",
       "<tr><td style=\"text-align: right;\">          150</td><td style=\"text-align: right;\">          100</td><td style=\"text-align: right;\">    10241.9</td><td style=\"text-align: right;\">       5.4717 </td><td style=\"text-align: right;\">   0.0377358</td></tr>\n",
       "<tr><td style=\"text-align: right;\">          225</td><td style=\"text-align: right;\">          100</td><td style=\"text-align: right;\">    10210.8</td><td style=\"text-align: right;\">       7.92453</td><td style=\"text-align: right;\">   0.0415094</td></tr>\n",
       "<tr><td style=\"text-align: right;\">          350</td><td style=\"text-align: right;\">          100</td><td style=\"text-align: right;\">    10210.8</td><td style=\"text-align: right;\">      11.6981 </td><td style=\"text-align: right;\">   0.0415094</td></tr>\n",
       "</tbody>\n",
       "</table>"
      ],
      "text/plain": [
       "<IPython.core.display.HTML object>"
      ]
     },
     "metadata": {},
     "output_type": "display_data"
    }
   ],
   "source": [
    "empty = \" \"*10\n",
    "\n",
    "arraystr = \"\\begin{array}{c|ccc} & & & Cost\\\\ Per\\\\ FN & \\\\\\\\ \\\\hline Cost\\\\ Per\\\\ FP & & \\\\$ 150 & \\\\$ 225 & \\\\$ 350 \\\\\\\\ \\\\hline \\\\$ 50 & & & \\\\\\\\ \\\\$ 100 & & & \\\\\\\\ \\\\hline \\\\end{array}\"\n",
    "\n",
    "from IPython.display import HTML, display\n",
    "import tabulate\n",
    "\n",
    "headers = [\"Cost Per FN\", \"Cost Per FP\", \"Threshold\", \"Average Cost\", \"Error Rate\"]\n",
    "table = [m_150_50, m_225_50, m_350_50, \n",
    "        m_150_100, m_225_100, m_350_100]\n",
    "\n",
    "display(HTML(tabulate.tabulate(table, headers=headers, tablefmt='html')))\n",
    "\n",
    "\n",
    "ltx = tabulate.tabulate(table, headers, tablefmt=\"latex_raw\")"
   ]
  },
  {
   "cell_type": "markdown",
   "metadata": {
    "variables": {
     "empty": "          ",
     "ltx": "\\begin{tabular}{lll}\\n\\hline\\n Body  &amp; Size   &amp; Distance   \\\\\\n Sun   &amp; 696000 &amp; 1989100000 \\\\\\n Earth &amp; 6371   &amp; 5973.6     \\\\\\n Moon  &amp; 1737   &amp; 73.5       \\\\\\n Mars  &amp; 3390   &amp; 641.85     \\\\\\n\\hline\\n\\end{tabular}"
    }
   },
   "source": [
    "\n",
    "{{ltx}}\n",
    "\n",
    "\n",
    "|Cost Per FP |{{empty}}    | {{empty}}  | Cost Per FN | {{empty}} |\n",
    "|------------|-------------|------------|-------------|-----------|\n",
    "| {{empty}}  | {{empty}}   | $ \\$150$   | $ \\$225$   |$ \\$350$  |\n",
    "\n",
    "\n"
   ]
  },
  {
   "cell_type": "markdown",
   "metadata": {
    "variables": {
     "m11_t": "10241.889257347055",
     "m12_t": "10183.438877965953",
     "m13_t": "10183.438877965953",
     "m21_t": "10241.889257347055",
     "m22_t": "10241.889257347055",
     "m23_t": "10183.438877965953"
    }
   },
   "source": [
    "\\begin{array}{c|ccc}\n",
    "& & & Cost\\ Per\\ FN & \\\\\n",
    " \\hline\n",
    "Cost\\ Per\\ FP & & \\$ 150 & \\$ 225 & \\$ 350 \\\\\n",
    " \\hline\n",
    "\\$ 50 & {{m11_t}} & {{m12_t}} & {{m13_t}} \\\\\n",
    "\\$ 100 & {{m21_t}} & {{m22_t}} & {{m23_t}} \\\\\n",
    "\\hline\n",
    "\\end{array}\n",
    "\n",
    "3. Evaluate the six thresholds derived from training data on the test data and record (B) the average cost per event and (C) the error rate at each threshold. \n",
    "\n",
    "\\begin{array}{c|ccc}\n",
    "& & & Cost\\ Per\\ FN & \\\\\n",
    " \\hline\n",
    "Cost\\ Per\\ FP & & \\$ 150 & \\$ 225 & \\$ 350 \\\\\n",
    " \\hline\n",
    "\\$ 50 & & & \\\\\n",
    "\\$ 100 & & & \\\\\n",
    "\\hline\n",
    "\\end{array}\n",
    "\n",
    "\n",
    "4. With 99% reliability, what is the expected maximum error rate on new data at each of the six thresholds? \n",
    "\n",
    "\\begin{array}{c|ccc}\n",
    "& & & Cost\\ Per\\ FN & \\\\\n",
    " \\hline\n",
    "Cost\\ Per\\ FP & & \\$ 150 & \\$ 225 & \\$ 350 \\\\\n",
    " \\hline\n",
    "\\$ 50 & & & \\\\\n",
    "\\$ 100 & & & \\\\\n",
    "\\hline\n",
    "\\end{array}\n",
    "\n",
    "Note that the Hoeffding inequality can be used not only to generalize the overall error rate from test data results, but also the separate overall portion of False Positives (not the FP rate, g/b, but the portion g/(a+b)) and the overall portion of False Negatives (not the FN rate, f/a, but the portion of False Negatives f/(a+b)).  \n",
    "\n",
    "5. Calculate these portions for each of the six parameters on the test data. \n",
    "\n",
    "\\begin{array}{c|ccc}\n",
    "& & & Cost\\ Per\\ FN & \\\\\n",
    " \\hline\n",
    "Cost\\ Per\\ FP & & \\$ 150 & \\$ 225 & \\$ 350 \\\\\n",
    " \\hline\n",
    "\\$ 50 & & & \\\\\n",
    "\\$ 100 & & & \\\\\n",
    "\\hline\n",
    "\\end{array}\n",
    "\n",
    "6. With 99% confidence, what is the maximum portion of False Positives, and the maximum portion of False Negatives, that will be observed at each of the six thresholds? \n",
    "\n",
    "\\begin{array}{c|ccc}\n",
    "& & & Cost\\ Per\\ FN & \\\\\n",
    " \\hline\n",
    "Cost\\ Per\\ FP & & \\$ 150 & \\$ 225 & \\$ 350 \\\\\n",
    " \\hline\n",
    "\\$ 50 & & & \\\\\n",
    "\\$ 100 & & & \\\\\n",
    "\\hline\n",
    "\\end{array}\n",
    "\n",
    "7. With 99% confidence, what is the maximum cost per event that will be observed at each of the six thresholds?  \n",
    "\n",
    "\\begin{array}{c|ccc}\n",
    "& & & Cost\\ Per\\ FN & \\\\\n",
    " \\hline\n",
    "Cost\\ Per\\ FP & & \\$ 150 & \\$ 225 & \\$ 350 \\\\\n",
    " \\hline\n",
    "\\$ 50 & & & \\\\\n",
    "\\$ 100 & & & \\\\\n",
    "\\hline\n",
    "\\end{array}\n",
    "\n",
    "\n",
    "\n",
    "\n",
    "END"
   ]
  },
  {
   "cell_type": "code",
   "execution_count": null,
   "metadata": {},
   "outputs": [],
   "source": []
  },
  {
   "cell_type": "code",
   "execution_count": null,
   "metadata": {},
   "outputs": [],
   "source": []
  }
 ],
 "metadata": {
  "kernelspec": {
   "display_name": "Python 3",
   "language": "python",
   "name": "python3"
  },
  "language_info": {
   "codemirror_mode": {
    "name": "ipython",
    "version": 3
   },
   "file_extension": ".py",
   "mimetype": "text/x-python",
   "name": "python",
   "nbconvert_exporter": "python",
   "pygments_lexer": "ipython3",
   "version": "3.7.1"
  }
 },
 "nbformat": 4,
 "nbformat_minor": 2
}
