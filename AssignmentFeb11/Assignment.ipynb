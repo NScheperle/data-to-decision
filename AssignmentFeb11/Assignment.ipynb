{
 "cells": [
  {
   "cell_type": "markdown",
   "metadata": {},
   "source": [
    "# Data to Decision\n",
    "\n",
    "## Nathan Scheperle\n",
    "## Monday, February 11"
   ]
  },
  {
   "cell_type": "markdown",
   "metadata": {},
   "source": [
    "Note: students may work in groups on the problem but are responsible for submitting their own answers. Type answers directly in this word document, rename the file with your name, and upload to Sakai Dropbox before noon on Monday. \n",
    "\n",
    "## Applying the Threshold Model and Forecasting Future Error Rates\n",
    "\n",
    "Computer chips that exceed certain size tolerances on the assembly line tend to be defective. You are given size measures for each chip, wirth binary outcomes (defective/not defective). You are given 400 typical cases (drawn at random from a stable production process). \n",
    "\n",
    "The cost per FP classification is estimated at $\\$50-100$ and the cost per FN classification is $\\$150-300$.  "
   ]
  },
  {
   "cell_type": "code",
   "execution_count": 1,
   "metadata": {},
   "outputs": [],
   "source": [
    "class Threshold():\n",
    "    \"\"\" Implementation of the Threshold Model in Python\"\"\"\n",
    "    \n",
    "    def __init__(self, fn_cost, fp_cost):\n",
    "        self.fn_cost = fn_cost\n",
    "        self.fp_cost = fp_cost\n",
    "        pass\n",
    "    \n",
    "    def fit(self, x, y):\n",
    "        df = pd.concat([x, y], axis=1)\n",
    "        df.columns = ['x', 'y']\n",
    "        pos = len(df[df['y']])\n",
    "        neg = len(df) - pos\n",
    "        df = df.sort_values(by='x', ascending=False)\n",
    "        if df.iloc[0, df.columns.get_loc('y')]:\n",
    "            df['FP'] = 0\n",
    "            df['FN'] = pos - 1\n",
    "            df['TP'] = 1\n",
    "            df['TN'] = neg\n",
    "        else:\n",
    "            df['FP'] = 1\n",
    "            df['FN'] = pos\n",
    "            df['TP'] = 0\n",
    "            df['TN'] = neg  - 1\n",
    "        for i in range(1,len(df)):\n",
    "            if df.iloc[i,df.columns.get_loc('y')]:\n",
    "                df.iloc[i, df.columns.get_loc('FN')] = df.iloc[i-1, df.columns.get_loc('FN')] - 1\n",
    "                df.iloc[i, df.columns.get_loc('TP')] = df.iloc[i-1, df.columns.get_loc('TP')] + 1\n",
    "\n",
    "                df.iloc[i, df.columns.get_loc('TN')] = df.iloc[i-1, df.columns.get_loc('TN')]\n",
    "                df.iloc[i, df.columns.get_loc('FP')] = df.iloc[i-1, df.columns.get_loc('FP')]\n",
    "            else:\n",
    "                df.iloc[i, df.columns.get_loc('TN')] = df.iloc[i-1, df.columns.get_loc('TN')] - 1\n",
    "                df.iloc[i, df.columns.get_loc('FP')] = df.iloc[i-1, df.columns.get_loc('FP')] + 1\n",
    "\n",
    "                df.iloc[i, df.columns.get_loc('FN')] = df.iloc[i-1, df.columns.get_loc('FN')]\n",
    "                df.iloc[i, df.columns.get_loc('TP')] = df.iloc[i-1, df.columns.get_loc('TP')]\n",
    "\n",
    "        df['Cost'] = self.fn_cost*df['FN'] + self.fp_cost*df['FP']\n",
    "        df['Error'] = (df['FN'] + df['FP'])/len(df)\n",
    "        \n",
    "        threshold_row = df.loc[df['Cost'].idxmin()]\n",
    "        self.threshold = threshold_row['x']\n",
    "        self.err_rate = threshold_row['Error']\n",
    "        self.cost = threshold_row['Cost']\n",
    "        self.n = len(df)\n",
    "        pass\n",
    "    \n",
    "    def avg_cost(self):\n",
    "        return self.cost/self.n\n",
    "    \n",
    "    def predict(self, x):\n",
    "        x_sort = x.sort_values(ascending=False)\n",
    "        y_hat = x >= self.threshold\n",
    "        return y_hat    \n",
    "    "
   ]
  },
  {
   "cell_type": "markdown",
   "metadata": {},
   "source": [
    "Partition your $400$ cases into a *training set* and *test set*, based on ensuring that with $99\\%$ confidence the error rate on future data will not exceed the error rate on test data by $.10$.  Partition the data by assigning individual cases at random to the two sets in your desired proportions.\n",
    "\n",
    "1. How large is your test set? Why? \n",
    "\n",
    "Using Hoeffding's Inequality, the required number of observations in the test dataset to ensure an error rate below $.10$ at the $99\\%$ confidence level is:\n",
    "$$\n",
    "n \\geq \\frac{log(2/\\alpha)}{2t^2} = \\frac{log(2/.01)}{2 \\cdot .1^2} = \\frac{log(200)}{.02} \\approx 265\n",
    "$$"
   ]
  },
  {
   "cell_type": "code",
   "execution_count": 2,
   "metadata": {},
   "outputs": [],
   "source": [
    "import numpy as np\n",
    "import pandas as pd\n",
    "import matplotlib.pyplot as plt\n",
    "from IPython.display import HTML, display\n",
    "import tabulate\n",
    "\n",
    "# read in dataset\n",
    "conv = lambda input: input=='POS'\n",
    "df = pd.read_excel(\"./data/Data for Feb 11 Problem.xlsx\", header=None, \n",
    "                   names=['x','y'])\n",
    "df['y'] = conv(df['y'])\n",
    "\n",
    "# n derived above\n",
    "n = 400 - 265\n",
    "\n",
    "train_idx = np.random.choice(range(len(df)), size=n, replace=False)\n",
    "\n",
    "train_df = df.iloc[train_idx]\n",
    "test_df = df.drop(train_idx)"
   ]
  },
  {
   "cell_type": "markdown",
   "metadata": {},
   "source": [
    "2. Evaluate the threshold model on your training data only, and identify six parameters (thresholds) that minimize the average per-chip cost of misclassification at each of six combinations of costs. \n",
    "\n",
    "(A) Record these parameters. Also give (B) the average cost per event and (C) the error rate at each threshold on training set."
   ]
  },
  {
   "cell_type": "code",
   "execution_count": 3,
   "metadata": {},
   "outputs": [
    {
     "name": "stdout",
     "output_type": "stream",
     "text": [
      "At $150 per FN and $50 per FP, \n",
      "Threshold = 10219.89413379076\n",
      "Error rate = 0.037037037037037035\n",
      "Average cost per event = $3.333\n",
      "\n",
      "At $225 per FN and $50 per FP, \n",
      "Threshold = 10219.89413379076\n",
      "Error rate = 0.037037037037037035\n",
      "Average cost per event = $4.444\n",
      "\n",
      "At $350 per FN and $50 per FP, \n",
      "Threshold = 10219.89413379076\n",
      "Error rate = 0.037037037037037035\n",
      "Average cost per event = $6.296\n",
      "\n",
      "At $150 per FN and $100 per FP, \n",
      "Threshold = 10241.889257347055\n",
      "Error rate = 0.02962962962962963\n",
      "Average cost per event = $4.074\n",
      "\n",
      "At $225 per FN and $100 per FP, \n",
      "Threshold = 10219.89413379076\n",
      "Error rate = 0.037037037037037035\n",
      "Average cost per event = $5.556\n",
      "\n",
      "At $350 per FN and $100 per FP, \n",
      "Threshold = 10219.89413379076\n",
      "Error rate = 0.037037037037037035\n",
      "Average cost per event = $7.407\n",
      "\n"
     ]
    }
   ],
   "source": [
    "def do_threshold(dataset, fn_cost, fp_cost):\n",
    "    thresh_model = Threshold(fn_cost, fp_cost)\n",
    "    thresh_model.fit(dataset['x'], dataset['y'])\n",
    "    print(\"At ${} per FN and ${} per FP, \".format(fn_cost, fp_cost))\n",
    "    print(\"Threshold = {}\".format(thresh_model.threshold))\n",
    "    print(\"Error rate = {}\".format(thresh_model.err_rate))\n",
    "    print(\"Average cost per event = ${0:.4}\".format(thresh_model.avg_cost()))\n",
    "    print()\n",
    "    return thresh_model, fn_cost, fp_cost, thresh_model.threshold, thresh_model.avg_cost(), thresh_model.err_rate \n",
    "\n",
    "train_150_50 = do_threshold(train_df, 150, 50)\n",
    "model_150_50 = train_150_50[0]\n",
    "train_225_50 = do_threshold(train_df, 225, 50)\n",
    "model_225_50 = train_225_50[0]\n",
    "train_350_50 = do_threshold(train_df, 350, 50)\n",
    "model_350_50 = train_350_50[0]\n",
    "\n",
    "train_150_100 = do_threshold(train_df, 150, 100)\n",
    "model_150_100 = train_150_100[0]\n",
    "train_225_100 = do_threshold(train_df, 225, 100)\n",
    "model_225_100 = train_225_100[0]\n",
    "train_350_100 = do_threshold(train_df, 350, 100)\n",
    "model_350_100 = train_350_100[0]"
   ]
  },
  {
   "cell_type": "code",
   "execution_count": 4,
   "metadata": {},
   "outputs": [
    {
     "data": {
      "text/html": [
       "<table>\n",
       "<thead>\n",
       "<tr><th style=\"text-align: right;\">  Cost Per FN</th><th style=\"text-align: right;\">  Cost Per FP</th><th style=\"text-align: right;\">  Threshold</th><th style=\"text-align: right;\">  Average Cost</th><th style=\"text-align: right;\">  Error Rate</th></tr>\n",
       "</thead>\n",
       "<tbody>\n",
       "<tr><td style=\"text-align: right;\">          150</td><td style=\"text-align: right;\">           50</td><td style=\"text-align: right;\">    10219.9</td><td style=\"text-align: right;\">       3.33333</td><td style=\"text-align: right;\">   0.037037 </td></tr>\n",
       "<tr><td style=\"text-align: right;\">          225</td><td style=\"text-align: right;\">           50</td><td style=\"text-align: right;\">    10219.9</td><td style=\"text-align: right;\">       4.44444</td><td style=\"text-align: right;\">   0.037037 </td></tr>\n",
       "<tr><td style=\"text-align: right;\">          350</td><td style=\"text-align: right;\">           50</td><td style=\"text-align: right;\">    10219.9</td><td style=\"text-align: right;\">       6.2963 </td><td style=\"text-align: right;\">   0.037037 </td></tr>\n",
       "<tr><td style=\"text-align: right;\">          150</td><td style=\"text-align: right;\">          100</td><td style=\"text-align: right;\">    10241.9</td><td style=\"text-align: right;\">       4.07407</td><td style=\"text-align: right;\">   0.0296296</td></tr>\n",
       "<tr><td style=\"text-align: right;\">          225</td><td style=\"text-align: right;\">          100</td><td style=\"text-align: right;\">    10219.9</td><td style=\"text-align: right;\">       5.55556</td><td style=\"text-align: right;\">   0.037037 </td></tr>\n",
       "<tr><td style=\"text-align: right;\">          350</td><td style=\"text-align: right;\">          100</td><td style=\"text-align: right;\">    10219.9</td><td style=\"text-align: right;\">       7.40741</td><td style=\"text-align: right;\">   0.037037 </td></tr>\n",
       "</tbody>\n",
       "</table>"
      ],
      "text/plain": [
       "<IPython.core.display.HTML object>"
      ]
     },
     "metadata": {},
     "output_type": "display_data"
    }
   ],
   "source": [
    "headers = [\"Cost Per FN\", \"Cost Per FP\", \"Threshold\", \"Average Cost\", \"Error Rate\"]\n",
    "table = [train_150_50[1:], train_225_50[1:], train_350_50[1:], \n",
    "        train_150_100[1:], train_225_100[1:], train_350_100[1:]]\n",
    "\n",
    "display(HTML(tabulate.tabulate(table, headers=headers, tablefmt='html')))\n",
    "\n"
   ]
  },
  {
   "cell_type": "markdown",
   "metadata": {},
   "source": [
    "3. Evaluate the six thresholds derived from training data on the test data and record (B) the average cost per event and (C) the error rate at each threshold. "
   ]
  },
  {
   "cell_type": "code",
   "execution_count": 5,
   "metadata": {},
   "outputs": [
    {
     "data": {
      "text/html": [
       "<table>\n",
       "<thead>\n",
       "<tr><th style=\"text-align: right;\">  Cost Per FN</th><th style=\"text-align: right;\">  Cost Per FP</th><th style=\"text-align: right;\">  Average Cost Per Event</th><th style=\"text-align: right;\">  Error Rate</th></tr>\n",
       "</thead>\n",
       "<tbody>\n",
       "<tr><td style=\"text-align: right;\">          150</td><td style=\"text-align: right;\">           50</td><td style=\"text-align: right;\">                 9.0566 </td><td style=\"text-align: right;\">   0.0679245</td></tr>\n",
       "<tr><td style=\"text-align: right;\">          225</td><td style=\"text-align: right;\">           50</td><td style=\"text-align: right;\">                13.3019 </td><td style=\"text-align: right;\">   0.0679245</td></tr>\n",
       "<tr><td style=\"text-align: right;\">          350</td><td style=\"text-align: right;\">           50</td><td style=\"text-align: right;\">                20.3774 </td><td style=\"text-align: right;\">   0.0679245</td></tr>\n",
       "<tr><td style=\"text-align: right;\">          150</td><td style=\"text-align: right;\">          100</td><td style=\"text-align: right;\">                 8.86792</td><td style=\"text-align: right;\">   0.0603774</td></tr>\n",
       "<tr><td style=\"text-align: right;\">          225</td><td style=\"text-align: right;\">          100</td><td style=\"text-align: right;\">                13.8679 </td><td style=\"text-align: right;\">   0.0679245</td></tr>\n",
       "<tr><td style=\"text-align: right;\">          350</td><td style=\"text-align: right;\">          100</td><td style=\"text-align: right;\">                20.9434 </td><td style=\"text-align: right;\">   0.0679245</td></tr>\n",
       "</tbody>\n",
       "</table>"
      ],
      "text/plain": [
       "<IPython.core.display.HTML object>"
      ]
     },
     "metadata": {},
     "output_type": "display_data"
    }
   ],
   "source": [
    "def cost_error(pred_df, fn_cost, fp_cost):\n",
    "    fn_count = len(pred_df.loc[pred_df['y'] & ~pred_df['predict']])\n",
    "    fp_count = len(pred_df.loc[~pred_df['y'] & pred_df['predict']])\n",
    "    \n",
    "    cost = fn_count*fn_cost + fp_count*fp_cost\n",
    "    avg_cost = cost/len(pred_df)\n",
    "    err_rate = (fn_count+fp_count)/len(pred_df)\n",
    "    return fn_cost, fp_cost, avg_cost, err_rate, fn_count/len(pred_df), fp_count/len(pred_df)\n",
    "    \n",
    "df_150_50 = test_df\n",
    "df_150_50['predict'] = model_150_50.predict(test_df['x'])\n",
    "df_150_50['predict'] = test_df['x'] >= model_150_50.threshold\n",
    "test_150_50 = cost_error(df_150_50, 150, 50)\n",
    "\n",
    "df_225_50 = test_df\n",
    "df_225_50['predict'] = model_225_50.predict(test_df['x'])\n",
    "df_225_50['predict'] = test_df['x'] >= model_225_50.threshold\n",
    "test_225_50 = cost_error(df_225_50, 225, 50)\n",
    "\n",
    "df_350_50 = test_df\n",
    "df_350_50['predict'] = model_350_50.predict(test_df['x'])\n",
    "df_350_50['predict'] = test_df['x'] >= model_350_50.threshold\n",
    "test_350_50 = cost_error(df_350_50, 350, 50)\n",
    "\n",
    "df_150_100 = test_df\n",
    "df_150_100['predict'] = model_150_100.predict(test_df['x'])\n",
    "df_150_100['predict'] = test_df['x'] >= model_150_100.threshold\n",
    "test_150_100 = cost_error(df_150_100, 150, 100)\n",
    "\n",
    "df_225_100 = test_df\n",
    "df_225_100['predict'] = model_225_100.predict(test_df['x'])\n",
    "df_225_100['predict'] = test_df['x'] >= model_225_100.threshold\n",
    "test_225_100 = cost_error(df_225_100, 225, 100)\n",
    "\n",
    "df_350_100 = test_df\n",
    "df_350_100['predict'] = model_350_100.predict(test_df['x'])\n",
    "df_350_100['predict'] = test_df['x'] >= model_350_100.threshold\n",
    "test_350_100 = cost_error(df_350_100, 350, 100)\n",
    "\n",
    "\n",
    "headers = [\"Cost Per FN\", \"Cost Per FP\", \"Average Cost Per Event\", \"Error Rate\"]\n",
    "table = [test_150_50[:4], test_225_50[:4], test_350_50[:4], \n",
    "        test_150_100[:4], test_225_100[:4], test_350_100[:4]]\n",
    "\n",
    "display(HTML(tabulate.tabulate(table, headers=headers, tablefmt='html')))"
   ]
  },
  {
   "cell_type": "markdown",
   "metadata": {},
   "source": [
    "4. With 99% reliability, what is the expected maximum error rate on new data at each of the six thresholds? "
   ]
  },
  {
   "cell_type": "code",
   "execution_count": 6,
   "metadata": {},
   "outputs": [
    {
     "data": {
      "text/html": [
       "<table>\n",
       "<thead>\n",
       "<tr><th style=\"text-align: right;\">  Cost Per FN</th><th style=\"text-align: right;\">  Cost Per FP</th><th style=\"text-align: right;\">  Max Error Rate</th></tr>\n",
       "</thead>\n",
       "<tbody>\n",
       "<tr><td style=\"text-align: right;\">          150</td><td style=\"text-align: right;\">           50</td><td style=\"text-align: right;\">        0.167925</td></tr>\n",
       "<tr><td style=\"text-align: right;\">          225</td><td style=\"text-align: right;\">           50</td><td style=\"text-align: right;\">        0.167925</td></tr>\n",
       "<tr><td style=\"text-align: right;\">          350</td><td style=\"text-align: right;\">           50</td><td style=\"text-align: right;\">        0.167925</td></tr>\n",
       "<tr><td style=\"text-align: right;\">          150</td><td style=\"text-align: right;\">          100</td><td style=\"text-align: right;\">        0.160377</td></tr>\n",
       "<tr><td style=\"text-align: right;\">          225</td><td style=\"text-align: right;\">          100</td><td style=\"text-align: right;\">        0.167925</td></tr>\n",
       "<tr><td style=\"text-align: right;\">          350</td><td style=\"text-align: right;\">          100</td><td style=\"text-align: right;\">        0.167925</td></tr>\n",
       "</tbody>\n",
       "</table>"
      ],
      "text/plain": [
       "<IPython.core.display.HTML object>"
      ]
     },
     "metadata": {},
     "output_type": "display_data"
    }
   ],
   "source": [
    "table = []\n",
    "for l in [test_150_50, test_225_50, test_350_50, \n",
    "        test_150_100, test_225_100, test_350_100]:\n",
    "    table.append(list(l[0:2]) + [l[3] + .1])\n",
    "    \n",
    "headers = [\"Cost Per FN\", \"Cost Per FP\", \"Max Error Rate\"]\n",
    "\n",
    "display(HTML(tabulate.tabulate(table, headers=headers, tablefmt='html')))"
   ]
  },
  {
   "cell_type": "markdown",
   "metadata": {},
   "source": [
    "Note that the Hoeffding inequality can be used not only to generalize the overall error rate from test data results, but also the separate overall portion of False Positives (not the FP rate, g/b, but the portion g/(a+b)) and the overall portion of False Negatives (not the FN rate, f/a, but the portion of False Negatives f/(a+b)).  \n",
    "\n",
    "5. Calculate these portions for each of the six parameters on the test data. "
   ]
  },
  {
   "cell_type": "code",
   "execution_count": 7,
   "metadata": {},
   "outputs": [
    {
     "data": {
      "text/html": [
       "<table>\n",
       "<thead>\n",
       "<tr><th style=\"text-align: right;\">  Cost Per FN</th><th style=\"text-align: right;\">  Cost Per FP</th><th style=\"text-align: right;\">  FN Rate</th><th style=\"text-align: right;\">   FP Rate</th></tr>\n",
       "</thead>\n",
       "<tbody>\n",
       "<tr><td style=\"text-align: right;\">          150</td><td style=\"text-align: right;\">           50</td><td style=\"text-align: right;\">0.0566038</td><td style=\"text-align: right;\">0.0113208 </td></tr>\n",
       "<tr><td style=\"text-align: right;\">          225</td><td style=\"text-align: right;\">           50</td><td style=\"text-align: right;\">0.0566038</td><td style=\"text-align: right;\">0.0113208 </td></tr>\n",
       "<tr><td style=\"text-align: right;\">          350</td><td style=\"text-align: right;\">           50</td><td style=\"text-align: right;\">0.0566038</td><td style=\"text-align: right;\">0.0113208 </td></tr>\n",
       "<tr><td style=\"text-align: right;\">          150</td><td style=\"text-align: right;\">          100</td><td style=\"text-align: right;\">0.0566038</td><td style=\"text-align: right;\">0.00377358</td></tr>\n",
       "<tr><td style=\"text-align: right;\">          225</td><td style=\"text-align: right;\">          100</td><td style=\"text-align: right;\">0.0566038</td><td style=\"text-align: right;\">0.0113208 </td></tr>\n",
       "<tr><td style=\"text-align: right;\">          350</td><td style=\"text-align: right;\">          100</td><td style=\"text-align: right;\">0.0566038</td><td style=\"text-align: right;\">0.0113208 </td></tr>\n",
       "</tbody>\n",
       "</table>"
      ],
      "text/plain": [
       "<IPython.core.display.HTML object>"
      ]
     },
     "metadata": {},
     "output_type": "display_data"
    }
   ],
   "source": [
    "headers = [\"Cost Per FN\", \"Cost Per FP\", \"FN Rate\", \"FP Rate\"]\n",
    "table = [list(test_150_50[0:2])+list(test_150_50[4:]), list(test_225_50[0:2])+list(test_225_50[4:]),\n",
    "        list(test_350_50[0:2])+list(test_350_50[4:]), \n",
    "        list(test_150_100[0:2])+list(test_150_100[4:]), list(test_225_100[0:2])+list(test_225_100[4:]),\n",
    "              list(test_350_100[0:2])+list(test_350_100[4:])]\n",
    "\n",
    "display(HTML(tabulate.tabulate(table, headers=headers, tablefmt='html')))"
   ]
  },
  {
   "cell_type": "markdown",
   "metadata": {},
   "source": [
    "6. With 99% confidence, what is the maximum portion of False Positives, and the maximum portion of False Negatives, that will be observed at each of the six thresholds? "
   ]
  },
  {
   "cell_type": "code",
   "execution_count": 8,
   "metadata": {},
   "outputs": [
    {
     "data": {
      "text/html": [
       "<table>\n",
       "<thead>\n",
       "<tr><th style=\"text-align: right;\">  Cost Per FN</th><th style=\"text-align: right;\">  Cost Per FP</th><th style=\"text-align: right;\">  Max FN Rate</th><th style=\"text-align: right;\">  Max FP Rate</th></tr>\n",
       "</thead>\n",
       "<tbody>\n",
       "<tr><td style=\"text-align: right;\">          150</td><td style=\"text-align: right;\">           50</td><td style=\"text-align: right;\">     0.156604</td><td style=\"text-align: right;\">     0.111321</td></tr>\n",
       "<tr><td style=\"text-align: right;\">          225</td><td style=\"text-align: right;\">           50</td><td style=\"text-align: right;\">     0.156604</td><td style=\"text-align: right;\">     0.111321</td></tr>\n",
       "<tr><td style=\"text-align: right;\">          350</td><td style=\"text-align: right;\">           50</td><td style=\"text-align: right;\">     0.156604</td><td style=\"text-align: right;\">     0.111321</td></tr>\n",
       "<tr><td style=\"text-align: right;\">          150</td><td style=\"text-align: right;\">          100</td><td style=\"text-align: right;\">     0.156604</td><td style=\"text-align: right;\">     0.103774</td></tr>\n",
       "<tr><td style=\"text-align: right;\">          225</td><td style=\"text-align: right;\">          100</td><td style=\"text-align: right;\">     0.156604</td><td style=\"text-align: right;\">     0.111321</td></tr>\n",
       "<tr><td style=\"text-align: right;\">          350</td><td style=\"text-align: right;\">          100</td><td style=\"text-align: right;\">     0.156604</td><td style=\"text-align: right;\">     0.111321</td></tr>\n",
       "</tbody>\n",
       "</table>"
      ],
      "text/plain": [
       "<IPython.core.display.HTML object>"
      ]
     },
     "metadata": {},
     "output_type": "display_data"
    }
   ],
   "source": [
    "headers = [\"Cost Per FN\", \"Cost Per FP\", \"Max FN Rate\", \"Max FP Rate\"]\n",
    "\n",
    "table = [list(test_150_50[0:2])+[x+.1 for x in test_150_50[4:]], list(test_225_50[0:2])+[x+.1 for x in test_225_50[4:]],\n",
    "        list(test_350_50[0:2])+[x+.1 for x in test_350_50[4:]], \n",
    "        list(test_150_100[0:2])+[x+.1 for x in test_150_100[4:]], list(test_225_100[0:2])+[x+.1 for x in test_225_100[4:]],\n",
    "              list(test_350_100[0:2])+[x+.1 for x in test_350_100[4:]]]\n",
    "\n",
    "\n",
    "\n",
    "display(HTML(tabulate.tabulate(table, headers=headers, tablefmt='html')))"
   ]
  },
  {
   "cell_type": "markdown",
   "metadata": {},
   "source": [
    "7. With 99% confidence, what is the maximum cost per event that will be observed at each of the six thresholds?  "
   ]
  },
  {
   "cell_type": "code",
   "execution_count": 9,
   "metadata": {},
   "outputs": [
    {
     "data": {
      "text/html": [
       "<table>\n",
       "<thead>\n",
       "<tr><th style=\"text-align: right;\">  Cost Per FN</th><th style=\"text-align: right;\">  Cost Per FP</th><th style=\"text-align: right;\">  Max Cost Per Event</th></tr>\n",
       "</thead>\n",
       "<tbody>\n",
       "<tr><td style=\"text-align: right;\">          150</td><td style=\"text-align: right;\">           50</td><td style=\"text-align: right;\">             9.67177</td></tr>\n",
       "<tr><td style=\"text-align: right;\">          225</td><td style=\"text-align: right;\">           50</td><td style=\"text-align: right;\">            14.2054 </td></tr>\n",
       "<tr><td style=\"text-align: right;\">          350</td><td style=\"text-align: right;\">           50</td><td style=\"text-align: right;\">            21.7615 </td></tr>\n",
       "<tr><td style=\"text-align: right;\">          150</td><td style=\"text-align: right;\">          100</td><td style=\"text-align: right;\">             9.40335</td></tr>\n",
       "<tr><td style=\"text-align: right;\">          225</td><td style=\"text-align: right;\">          100</td><td style=\"text-align: right;\">            14.8099 </td></tr>\n",
       "<tr><td style=\"text-align: right;\">          350</td><td style=\"text-align: right;\">          100</td><td style=\"text-align: right;\">            22.366  </td></tr>\n",
       "</tbody>\n",
       "</table>"
      ],
      "text/plain": [
       "<IPython.core.display.HTML object>"
      ]
     },
     "metadata": {},
     "output_type": "display_data"
    }
   ],
   "source": [
    "headers = [\"Cost Per FN\", \"Cost Per FP\", \"Max Cost Per Event\"]\n",
    "\n",
    "table = [list(test_150_50[0:2])+[test_150_50[2]*(1+test_150_50[3])],\n",
    "         list(test_225_50[0:2])+[test_225_50[2]*(1+test_225_50[3])],\n",
    "        list(test_350_50[0:2])+[test_350_50[2]*(1+test_350_50[3])], \n",
    "        list(test_150_100[0:2])+[test_150_100[2]*(1+test_150_100[3])],\n",
    "         list(test_225_100[0:2])+[test_225_100[2]*(1+test_225_100[3])],\n",
    "              list(test_350_100[0:2])+[test_350_100[2]*(1+test_350_100[3])]]\n",
    "\n",
    "display(HTML(tabulate.tabulate(table, headers=headers, tablefmt='html')))"
   ]
  },
  {
   "cell_type": "markdown",
   "metadata": {},
   "source": [
    "**END**"
   ]
  }
 ],
 "metadata": {
  "kernelspec": {
   "display_name": "Python 3",
   "language": "python",
   "name": "python3"
  },
  "language_info": {
   "codemirror_mode": {
    "name": "ipython",
    "version": 3
   },
   "file_extension": ".py",
   "mimetype": "text/x-python",
   "name": "python",
   "nbconvert_exporter": "python",
   "pygments_lexer": "ipython3",
   "version": "3.7.1"
  }
 },
 "nbformat": 4,
 "nbformat_minor": 2
}
